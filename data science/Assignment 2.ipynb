{
 "cells": [
  {
   "cell_type": "markdown",
   "id": "3b8d7e32",
   "metadata": {},
   "source": [
    "# 1. Introduction\n",
    "There were two datasets for Part A which were \"FIT1043-Essay-Features.csv\", and\n",
    "\"FIT1043-Essay-Features-Submission.csv\". These datasets were provided and it is utilised throughout the whole PartA.\n",
    "There were a total of 4 main Task given and few sub task provided inside the 4 main task."
   ]
  },
  {
   "cell_type": "markdown",
   "id": "cf120b63",
   "metadata": {},
   "source": [
    "# Part A\n",
    "## A1.1"
   ]
  },
  {
   "cell_type": "markdown",
   "id": "3f496d34",
   "metadata": {},
   "source": [
    "a supervised machine learning is a type of machine learning where it makes predictions and decisions through algorithm given on a labeled dataset. labeled data a learning algorithm annd a model are the essentials components of supervised learning.\n",
    "\n",
    "labeled data is the foundation of supervised machine learning where is has input and output pairs. The input is the data that are going to be predicted while the output is the corresponding target. Input is also known as features and the output is also known as the outcome.\n",
    "\n",
    "the train dataset is to allow the algoritm uses the input and output pairs from it and adjust the model's parameters. while the model learns by finding patterns and relationships to make accurate predictions\n",
    "the test dataset is not used during the model training phase. However it is utitlise when measuring the generalise results of the new data. it is also used to calculate the model's perfomance"
   ]
  },
  {
   "cell_type": "markdown",
   "id": "e046d399",
   "metadata": {},
   "source": [
    "## A1.2"
   ]
  },
  {
   "cell_type": "code",
   "execution_count": 1,
   "id": "d752a25f",
   "metadata": {},
   "outputs": [
    {
     "data": {
      "text/html": [
       "<div>\n",
       "<style scoped>\n",
       "    .dataframe tbody tr th:only-of-type {\n",
       "        vertical-align: middle;\n",
       "    }\n",
       "\n",
       "    .dataframe tbody tr th {\n",
       "        vertical-align: top;\n",
       "    }\n",
       "\n",
       "    .dataframe thead th {\n",
       "        text-align: right;\n",
       "    }\n",
       "</style>\n",
       "<table border=\"1\" class=\"dataframe\">\n",
       "  <thead>\n",
       "    <tr style=\"text-align: right;\">\n",
       "      <th></th>\n",
       "      <th>essayid</th>\n",
       "      <th>chars</th>\n",
       "      <th>words</th>\n",
       "      <th>commas</th>\n",
       "      <th>apostrophes</th>\n",
       "      <th>punctuations</th>\n",
       "      <th>avg_word_length</th>\n",
       "      <th>sentences</th>\n",
       "      <th>questions</th>\n",
       "      <th>avg_word_sentence</th>\n",
       "      <th>POS</th>\n",
       "      <th>POS/total_words</th>\n",
       "      <th>prompt_words</th>\n",
       "      <th>prompt_words/total_words</th>\n",
       "      <th>synonym_words</th>\n",
       "      <th>synonym_words/total_words</th>\n",
       "      <th>unstemmed</th>\n",
       "      <th>stemmed</th>\n",
       "    </tr>\n",
       "  </thead>\n",
       "  <tbody>\n",
       "    <tr>\n",
       "      <th>0</th>\n",
       "      <td>1457</td>\n",
       "      <td>2153</td>\n",
       "      <td>426</td>\n",
       "      <td>14</td>\n",
       "      <td>6</td>\n",
       "      <td>0</td>\n",
       "      <td>5.053991</td>\n",
       "      <td>16</td>\n",
       "      <td>0</td>\n",
       "      <td>26.625000</td>\n",
       "      <td>423.995272</td>\n",
       "      <td>0.995294</td>\n",
       "      <td>207</td>\n",
       "      <td>0.485915</td>\n",
       "      <td>105</td>\n",
       "      <td>0.246479</td>\n",
       "      <td>424</td>\n",
       "      <td>412</td>\n",
       "    </tr>\n",
       "    <tr>\n",
       "      <th>1</th>\n",
       "      <td>503</td>\n",
       "      <td>1480</td>\n",
       "      <td>292</td>\n",
       "      <td>9</td>\n",
       "      <td>7</td>\n",
       "      <td>0</td>\n",
       "      <td>5.068493</td>\n",
       "      <td>11</td>\n",
       "      <td>0</td>\n",
       "      <td>26.545455</td>\n",
       "      <td>290.993103</td>\n",
       "      <td>0.996552</td>\n",
       "      <td>148</td>\n",
       "      <td>0.506849</td>\n",
       "      <td>77</td>\n",
       "      <td>0.263699</td>\n",
       "      <td>356</td>\n",
       "      <td>345</td>\n",
       "    </tr>\n",
       "    <tr>\n",
       "      <th>2</th>\n",
       "      <td>253</td>\n",
       "      <td>3964</td>\n",
       "      <td>849</td>\n",
       "      <td>19</td>\n",
       "      <td>26</td>\n",
       "      <td>1</td>\n",
       "      <td>4.669022</td>\n",
       "      <td>49</td>\n",
       "      <td>2</td>\n",
       "      <td>17.326531</td>\n",
       "      <td>843.990544</td>\n",
       "      <td>0.994100</td>\n",
       "      <td>285</td>\n",
       "      <td>0.335689</td>\n",
       "      <td>130</td>\n",
       "      <td>0.153121</td>\n",
       "      <td>750</td>\n",
       "      <td>750</td>\n",
       "    </tr>\n",
       "    <tr>\n",
       "      <th>3</th>\n",
       "      <td>107</td>\n",
       "      <td>988</td>\n",
       "      <td>210</td>\n",
       "      <td>8</td>\n",
       "      <td>7</td>\n",
       "      <td>0</td>\n",
       "      <td>4.704762</td>\n",
       "      <td>12</td>\n",
       "      <td>0</td>\n",
       "      <td>17.500000</td>\n",
       "      <td>207.653784</td>\n",
       "      <td>0.988828</td>\n",
       "      <td>112</td>\n",
       "      <td>0.533333</td>\n",
       "      <td>62</td>\n",
       "      <td>0.295238</td>\n",
       "      <td>217</td>\n",
       "      <td>209</td>\n",
       "    </tr>\n",
       "    <tr>\n",
       "      <th>4</th>\n",
       "      <td>1450</td>\n",
       "      <td>3139</td>\n",
       "      <td>600</td>\n",
       "      <td>13</td>\n",
       "      <td>8</td>\n",
       "      <td>0</td>\n",
       "      <td>5.231667</td>\n",
       "      <td>24</td>\n",
       "      <td>1</td>\n",
       "      <td>25.000000</td>\n",
       "      <td>594.652150</td>\n",
       "      <td>0.991087</td>\n",
       "      <td>255</td>\n",
       "      <td>0.425000</td>\n",
       "      <td>165</td>\n",
       "      <td>0.275000</td>\n",
       "      <td>702</td>\n",
       "      <td>677</td>\n",
       "    </tr>\n",
       "    <tr>\n",
       "      <th>...</th>\n",
       "      <td>...</td>\n",
       "      <td>...</td>\n",
       "      <td>...</td>\n",
       "      <td>...</td>\n",
       "      <td>...</td>\n",
       "      <td>...</td>\n",
       "      <td>...</td>\n",
       "      <td>...</td>\n",
       "      <td>...</td>\n",
       "      <td>...</td>\n",
       "      <td>...</td>\n",
       "      <td>...</td>\n",
       "      <td>...</td>\n",
       "      <td>...</td>\n",
       "      <td>...</td>\n",
       "      <td>...</td>\n",
       "      <td>...</td>\n",
       "      <td>...</td>\n",
       "    </tr>\n",
       "    <tr>\n",
       "      <th>1327</th>\n",
       "      <td>1151</td>\n",
       "      <td>2404</td>\n",
       "      <td>467</td>\n",
       "      <td>16</td>\n",
       "      <td>10</td>\n",
       "      <td>0</td>\n",
       "      <td>5.147752</td>\n",
       "      <td>22</td>\n",
       "      <td>0</td>\n",
       "      <td>21.227273</td>\n",
       "      <td>462.987069</td>\n",
       "      <td>0.991407</td>\n",
       "      <td>200</td>\n",
       "      <td>0.428266</td>\n",
       "      <td>113</td>\n",
       "      <td>0.241970</td>\n",
       "      <td>529</td>\n",
       "      <td>519</td>\n",
       "    </tr>\n",
       "    <tr>\n",
       "      <th>1328</th>\n",
       "      <td>1015</td>\n",
       "      <td>1182</td>\n",
       "      <td>241</td>\n",
       "      <td>0</td>\n",
       "      <td>14</td>\n",
       "      <td>0</td>\n",
       "      <td>4.904564</td>\n",
       "      <td>16</td>\n",
       "      <td>0</td>\n",
       "      <td>15.062500</td>\n",
       "      <td>238.655462</td>\n",
       "      <td>0.990272</td>\n",
       "      <td>94</td>\n",
       "      <td>0.390041</td>\n",
       "      <td>67</td>\n",
       "      <td>0.278008</td>\n",
       "      <td>293</td>\n",
       "      <td>283</td>\n",
       "    </tr>\n",
       "    <tr>\n",
       "      <th>1329</th>\n",
       "      <td>1345</td>\n",
       "      <td>1814</td>\n",
       "      <td>363</td>\n",
       "      <td>5</td>\n",
       "      <td>11</td>\n",
       "      <td>0</td>\n",
       "      <td>4.997245</td>\n",
       "      <td>13</td>\n",
       "      <td>3</td>\n",
       "      <td>27.923077</td>\n",
       "      <td>362.329640</td>\n",
       "      <td>0.998153</td>\n",
       "      <td>170</td>\n",
       "      <td>0.468320</td>\n",
       "      <td>107</td>\n",
       "      <td>0.294766</td>\n",
       "      <td>427</td>\n",
       "      <td>415</td>\n",
       "    </tr>\n",
       "    <tr>\n",
       "      <th>1330</th>\n",
       "      <td>344</td>\n",
       "      <td>1427</td>\n",
       "      <td>287</td>\n",
       "      <td>5</td>\n",
       "      <td>8</td>\n",
       "      <td>0</td>\n",
       "      <td>4.972125</td>\n",
       "      <td>13</td>\n",
       "      <td>1</td>\n",
       "      <td>22.076923</td>\n",
       "      <td>284.657277</td>\n",
       "      <td>0.991837</td>\n",
       "      <td>144</td>\n",
       "      <td>0.501742</td>\n",
       "      <td>83</td>\n",
       "      <td>0.289199</td>\n",
       "      <td>323</td>\n",
       "      <td>312</td>\n",
       "    </tr>\n",
       "    <tr>\n",
       "      <th>1331</th>\n",
       "      <td>1077</td>\n",
       "      <td>2806</td>\n",
       "      <td>542</td>\n",
       "      <td>24</td>\n",
       "      <td>6</td>\n",
       "      <td>0</td>\n",
       "      <td>5.177122</td>\n",
       "      <td>22</td>\n",
       "      <td>3</td>\n",
       "      <td>24.636364</td>\n",
       "      <td>538.988889</td>\n",
       "      <td>0.994444</td>\n",
       "      <td>284</td>\n",
       "      <td>0.523985</td>\n",
       "      <td>155</td>\n",
       "      <td>0.285978</td>\n",
       "      <td>596</td>\n",
       "      <td>575</td>\n",
       "    </tr>\n",
       "  </tbody>\n",
       "</table>\n",
       "<p>1332 rows × 18 columns</p>\n",
       "</div>"
      ],
      "text/plain": [
       "      essayid  chars  words  commas  apostrophes  punctuations  \\\n",
       "0        1457   2153    426      14            6             0   \n",
       "1         503   1480    292       9            7             0   \n",
       "2         253   3964    849      19           26             1   \n",
       "3         107    988    210       8            7             0   \n",
       "4        1450   3139    600      13            8             0   \n",
       "...       ...    ...    ...     ...          ...           ...   \n",
       "1327     1151   2404    467      16           10             0   \n",
       "1328     1015   1182    241       0           14             0   \n",
       "1329     1345   1814    363       5           11             0   \n",
       "1330      344   1427    287       5            8             0   \n",
       "1331     1077   2806    542      24            6             0   \n",
       "\n",
       "      avg_word_length  sentences  questions  avg_word_sentence         POS  \\\n",
       "0            5.053991         16          0          26.625000  423.995272   \n",
       "1            5.068493         11          0          26.545455  290.993103   \n",
       "2            4.669022         49          2          17.326531  843.990544   \n",
       "3            4.704762         12          0          17.500000  207.653784   \n",
       "4            5.231667         24          1          25.000000  594.652150   \n",
       "...               ...        ...        ...                ...         ...   \n",
       "1327         5.147752         22          0          21.227273  462.987069   \n",
       "1328         4.904564         16          0          15.062500  238.655462   \n",
       "1329         4.997245         13          3          27.923077  362.329640   \n",
       "1330         4.972125         13          1          22.076923  284.657277   \n",
       "1331         5.177122         22          3          24.636364  538.988889   \n",
       "\n",
       "      POS/total_words  prompt_words  prompt_words/total_words  synonym_words  \\\n",
       "0            0.995294           207                  0.485915            105   \n",
       "1            0.996552           148                  0.506849             77   \n",
       "2            0.994100           285                  0.335689            130   \n",
       "3            0.988828           112                  0.533333             62   \n",
       "4            0.991087           255                  0.425000            165   \n",
       "...               ...           ...                       ...            ...   \n",
       "1327         0.991407           200                  0.428266            113   \n",
       "1328         0.990272            94                  0.390041             67   \n",
       "1329         0.998153           170                  0.468320            107   \n",
       "1330         0.991837           144                  0.501742             83   \n",
       "1331         0.994444           284                  0.523985            155   \n",
       "\n",
       "      synonym_words/total_words  unstemmed  stemmed  \n",
       "0                      0.246479        424      412  \n",
       "1                      0.263699        356      345  \n",
       "2                      0.153121        750      750  \n",
       "3                      0.295238        217      209  \n",
       "4                      0.275000        702      677  \n",
       "...                         ...        ...      ...  \n",
       "1327                   0.241970        529      519  \n",
       "1328                   0.278008        293      283  \n",
       "1329                   0.294766        427      415  \n",
       "1330                   0.289199        323      312  \n",
       "1331                   0.285978        596      575  \n",
       "\n",
       "[1332 rows x 18 columns]"
      ]
     },
     "execution_count": 1,
     "metadata": {},
     "output_type": "execute_result"
    }
   ],
   "source": [
    "import pandas as pd\n",
    "features_data = pd.read_csv('FIT1043-Essay-Features.csv')\n",
    "features = features_data.iloc[:, :-1]\n",
    "labels = features_data.iloc[:, -1]\n",
    "features"
   ]
  },
  {
   "cell_type": "code",
   "execution_count": 2,
   "id": "677aef41",
   "metadata": {},
   "outputs": [
    {
     "data": {
      "text/plain": [
       "0       4\n",
       "1       4\n",
       "2       4\n",
       "3       3\n",
       "4       4\n",
       "       ..\n",
       "1327    4\n",
       "1328    3\n",
       "1329    3\n",
       "1330    3\n",
       "1331    4\n",
       "Name: score, Length: 1332, dtype: int64"
      ]
     },
     "execution_count": 2,
     "metadata": {},
     "output_type": "execute_result"
    }
   ],
   "source": [
    "labels"
   ]
  },
  {
   "cell_type": "markdown",
   "id": "bdd7b25e",
   "metadata": {},
   "source": [
    "# A1.3\n"
   ]
  },
  {
   "cell_type": "code",
   "execution_count": 3,
   "id": "8619854b",
   "metadata": {},
   "outputs": [],
   "source": [
    "from sklearn.model_selection import train_test_split\n",
    "x_train, x_test, y_train, y_test = train_test_split(features, labels, test_size=0.2, random_state=0)"
   ]
  },
  {
   "cell_type": "markdown",
   "id": "35978ea4",
   "metadata": {},
   "source": [
    "# A2.1"
   ]
  },
  {
   "cell_type": "markdown",
   "id": "8d2913c5",
   "metadata": {},
   "source": [
    "Binary classifications involves with distinguishing between tow classes, like spam or not a spam. While multi-class classification deals with more than two classes such as categorising objects in images or classifying text into various topics. Multi-class has mutiple catergories to predict while binaray only has two classes."
   ]
  },
  {
   "cell_type": "markdown",
   "id": "33d5392a",
   "metadata": {},
   "source": [
    "# A2.2"
   ]
  },
  {
   "cell_type": "markdown",
   "id": "66b2ba27",
   "metadata": {},
   "source": [
    "normalising/scaled data means that adjusting the numerical values of features in a dataset to a consistent scale. The purpose of this it to allow the machine learning algorithm is effective and not affect by other variations in feature scale."
   ]
  },
  {
   "cell_type": "code",
   "execution_count": 4,
   "id": "85aede26",
   "metadata": {},
   "outputs": [],
   "source": [
    "from sklearn.preprocessing import StandardScaler\n",
    "scaler = StandardScaler()\n",
    "x_train_scaled = scaler.fit_transform(x_train)\n",
    "x_test_scaled = scaler.transform(x_test)"
   ]
  },
  {
   "cell_type": "markdown",
   "id": "788c4b5a",
   "metadata": {},
   "source": [
    "# A2.3\n",
    "# a.\n",
    "SVM also known as supervised machine learning model uses classification alogrithms for two_group classification problems.\n",
    "the concepts an characteristic of SVM are such as binary classification, kernel tricks, margin and many more\n",
    "\n",
    "# b. \n",
    "SVM kernel is a function that allows low dimensional input space transformed into a higher dimensional space.\n",
    "for example, converting non seperable problem into a separable problem\n",
    "\n",
    "# c."
   ]
  },
  {
   "cell_type": "code",
   "execution_count": 5,
   "id": "1f33d1a9",
   "metadata": {},
   "outputs": [],
   "source": [
    "from sklearn.svm import SVC\n",
    "svm = SVC(kernel='linear')\n",
    "svm = svm.fit(x_train, y_train)"
   ]
  },
  {
   "cell_type": "markdown",
   "id": "4a12d30c",
   "metadata": {},
   "source": [
    "## A2.4"
   ]
  },
  {
   "cell_type": "code",
   "execution_count": 6,
   "id": "59e0aa1f",
   "metadata": {},
   "outputs": [
    {
     "data": {
      "text/html": [
       "<style>#sk-container-id-1 {color: black;}#sk-container-id-1 pre{padding: 0;}#sk-container-id-1 div.sk-toggleable {background-color: white;}#sk-container-id-1 label.sk-toggleable__label {cursor: pointer;display: block;width: 100%;margin-bottom: 0;padding: 0.3em;box-sizing: border-box;text-align: center;}#sk-container-id-1 label.sk-toggleable__label-arrow:before {content: \"▸\";float: left;margin-right: 0.25em;color: #696969;}#sk-container-id-1 label.sk-toggleable__label-arrow:hover:before {color: black;}#sk-container-id-1 div.sk-estimator:hover label.sk-toggleable__label-arrow:before {color: black;}#sk-container-id-1 div.sk-toggleable__content {max-height: 0;max-width: 0;overflow: hidden;text-align: left;background-color: #f0f8ff;}#sk-container-id-1 div.sk-toggleable__content pre {margin: 0.2em;color: black;border-radius: 0.25em;background-color: #f0f8ff;}#sk-container-id-1 input.sk-toggleable__control:checked~div.sk-toggleable__content {max-height: 200px;max-width: 100%;overflow: auto;}#sk-container-id-1 input.sk-toggleable__control:checked~label.sk-toggleable__label-arrow:before {content: \"▾\";}#sk-container-id-1 div.sk-estimator input.sk-toggleable__control:checked~label.sk-toggleable__label {background-color: #d4ebff;}#sk-container-id-1 div.sk-label input.sk-toggleable__control:checked~label.sk-toggleable__label {background-color: #d4ebff;}#sk-container-id-1 input.sk-hidden--visually {border: 0;clip: rect(1px 1px 1px 1px);clip: rect(1px, 1px, 1px, 1px);height: 1px;margin: -1px;overflow: hidden;padding: 0;position: absolute;width: 1px;}#sk-container-id-1 div.sk-estimator {font-family: monospace;background-color: #f0f8ff;border: 1px dotted black;border-radius: 0.25em;box-sizing: border-box;margin-bottom: 0.5em;}#sk-container-id-1 div.sk-estimator:hover {background-color: #d4ebff;}#sk-container-id-1 div.sk-parallel-item::after {content: \"\";width: 100%;border-bottom: 1px solid gray;flex-grow: 1;}#sk-container-id-1 div.sk-label:hover label.sk-toggleable__label {background-color: #d4ebff;}#sk-container-id-1 div.sk-serial::before {content: \"\";position: absolute;border-left: 1px solid gray;box-sizing: border-box;top: 0;bottom: 0;left: 50%;z-index: 0;}#sk-container-id-1 div.sk-serial {display: flex;flex-direction: column;align-items: center;background-color: white;padding-right: 0.2em;padding-left: 0.2em;position: relative;}#sk-container-id-1 div.sk-item {position: relative;z-index: 1;}#sk-container-id-1 div.sk-parallel {display: flex;align-items: stretch;justify-content: center;background-color: white;position: relative;}#sk-container-id-1 div.sk-item::before, #sk-container-id-1 div.sk-parallel-item::before {content: \"\";position: absolute;border-left: 1px solid gray;box-sizing: border-box;top: 0;bottom: 0;left: 50%;z-index: -1;}#sk-container-id-1 div.sk-parallel-item {display: flex;flex-direction: column;z-index: 1;position: relative;background-color: white;}#sk-container-id-1 div.sk-parallel-item:first-child::after {align-self: flex-end;width: 50%;}#sk-container-id-1 div.sk-parallel-item:last-child::after {align-self: flex-start;width: 50%;}#sk-container-id-1 div.sk-parallel-item:only-child::after {width: 0;}#sk-container-id-1 div.sk-dashed-wrapped {border: 1px dashed gray;margin: 0 0.4em 0.5em 0.4em;box-sizing: border-box;padding-bottom: 0.4em;background-color: white;}#sk-container-id-1 div.sk-label label {font-family: monospace;font-weight: bold;display: inline-block;line-height: 1.2em;}#sk-container-id-1 div.sk-label-container {text-align: center;}#sk-container-id-1 div.sk-container {/* jupyter's `normalize.less` sets `[hidden] { display: none; }` but bootstrap.min.css set `[hidden] { display: none !important; }` so we also need the `!important` here to be able to override the default hidden behavior on the sphinx rendered scikit-learn.org. See: https://github.com/scikit-learn/scikit-learn/issues/21755 */display: inline-block !important;position: relative;}#sk-container-id-1 div.sk-text-repr-fallback {display: none;}</style><div id=\"sk-container-id-1\" class=\"sk-top-container\"><div class=\"sk-text-repr-fallback\"><pre>DecisionTreeClassifier(criterion=&#x27;entropy&#x27;, random_state=0)</pre><b>In a Jupyter environment, please rerun this cell to show the HTML representation or trust the notebook. <br />On GitHub, the HTML representation is unable to render, please try loading this page with nbviewer.org.</b></div><div class=\"sk-container\" hidden><div class=\"sk-item\"><div class=\"sk-estimator sk-toggleable\"><input class=\"sk-toggleable__control sk-hidden--visually\" id=\"sk-estimator-id-1\" type=\"checkbox\" checked><label for=\"sk-estimator-id-1\" class=\"sk-toggleable__label sk-toggleable__label-arrow\">DecisionTreeClassifier</label><div class=\"sk-toggleable__content\"><pre>DecisionTreeClassifier(criterion=&#x27;entropy&#x27;, random_state=0)</pre></div></div></div></div></div>"
      ],
      "text/plain": [
       "DecisionTreeClassifier(criterion='entropy', random_state=0)"
      ]
     },
     "execution_count": 6,
     "metadata": {},
     "output_type": "execute_result"
    }
   ],
   "source": [
    "from sklearn.tree import DecisionTreeClassifier\n",
    "classifier = DecisionTreeClassifier(criterion = 'entropy', random_state = 0)\n",
    "classifier.fit(x_train, y_train)\n",
    "classifier"
   ]
  },
  {
   "cell_type": "markdown",
   "id": "ca53bdad",
   "metadata": {},
   "source": [
    "# A3.1"
   ]
  },
  {
   "cell_type": "code",
   "execution_count": 7,
   "id": "6b303547",
   "metadata": {},
   "outputs": [
    {
     "data": {
      "text/plain": [
       "array([4, 3, 3, 2, 3, 4, 5, 4, 2, 4, 4, 2, 4, 3, 3, 4, 3, 4, 3, 4, 3, 3,\n",
       "       3, 3, 3, 4, 4, 4, 3, 4, 4, 4, 4, 4, 4, 3, 3, 4, 3, 3, 4, 2, 3, 3,\n",
       "       3, 3, 3, 3, 2, 3, 4, 3, 4, 4, 4, 4, 4, 3, 3, 5, 3, 4, 3, 3, 5, 4,\n",
       "       4, 4, 4, 4, 3, 3, 4, 5, 4, 3, 3, 4, 4, 3, 4, 4, 4, 3, 3, 4, 4, 2,\n",
       "       4, 4, 3, 4, 4, 3, 1, 3, 3, 4, 3, 2, 4, 4, 3, 4, 4, 2, 4, 4, 3, 4,\n",
       "       2, 2, 2, 3, 3, 4, 3, 4, 3, 3, 2, 3, 3, 4, 4, 3, 3, 4, 4, 3, 4, 4,\n",
       "       4, 3, 4, 3, 3, 4, 4, 3, 3, 4, 4, 3, 3, 3, 3, 3, 4, 4, 4, 3, 4, 4,\n",
       "       4, 3, 3, 3, 3, 3, 3, 4, 3, 3, 3, 4, 4, 4, 3, 3, 3, 3, 3, 3, 4, 4,\n",
       "       4, 4, 4, 2, 3, 4, 3, 3, 3, 4, 3, 3, 3, 3, 3, 4, 4, 3, 2, 2, 4, 4,\n",
       "       3, 4, 3, 4, 4, 3, 3, 4, 3, 3, 3, 3, 4, 4, 3, 3, 3, 3, 4, 4, 3, 4,\n",
       "       4, 4, 4, 4, 4, 4, 2, 4, 3, 3, 3, 3, 4, 3, 4, 4, 4, 4, 5, 4, 4, 4,\n",
       "       3, 3, 3, 4, 4, 3, 4, 4, 3, 4, 3, 4, 4, 4, 3, 2, 2, 3, 3, 3, 4, 3,\n",
       "       3, 3, 4], dtype=int64)"
      ]
     },
     "execution_count": 7,
     "metadata": {},
     "output_type": "execute_result"
    }
   ],
   "source": [
    "svm.predict(x_test)"
   ]
  },
  {
   "cell_type": "code",
   "execution_count": 8,
   "id": "b06f5682",
   "metadata": {},
   "outputs": [
    {
     "data": {
      "text/plain": [
       "array([4, 3, 3, 3, 3, 4, 4, 4, 3, 4, 4, 2, 3, 3, 3, 4, 3, 1, 4, 4, 3, 2,\n",
       "       3, 4, 3, 4, 4, 3, 3, 3, 4, 4, 3, 5, 4, 2, 4, 3, 3, 3, 3, 2, 4, 3,\n",
       "       3, 2, 3, 3, 2, 3, 4, 3, 5, 4, 3, 4, 3, 3, 3, 4, 3, 4, 4, 4, 4, 3,\n",
       "       3, 4, 3, 4, 4, 3, 4, 5, 4, 3, 4, 4, 3, 4, 4, 4, 4, 4, 3, 4, 4, 3,\n",
       "       4, 3, 3, 4, 4, 3, 2, 3, 4, 4, 4, 2, 4, 4, 4, 4, 4, 1, 4, 4, 3, 4,\n",
       "       3, 3, 3, 3, 3, 4, 3, 4, 3, 4, 3, 4, 3, 4, 3, 4, 3, 3, 1, 4, 4, 5,\n",
       "       4, 4, 4, 3, 3, 4, 4, 2, 3, 4, 4, 3, 3, 3, 4, 3, 4, 4, 4, 3, 4, 5,\n",
       "       4, 4, 2, 3, 3, 3, 4, 4, 3, 3, 4, 4, 4, 4, 4, 3, 3, 3, 3, 3, 4, 2,\n",
       "       3, 4, 4, 2, 3, 4, 4, 3, 3, 4, 3, 3, 3, 3, 3, 4, 3, 3, 2, 3, 4, 4,\n",
       "       3, 4, 4, 4, 4, 4, 3, 4, 3, 4, 2, 3, 4, 4, 2, 3, 3, 3, 3, 4, 3, 3,\n",
       "       4, 3, 4, 4, 4, 3, 3, 3, 3, 4, 4, 2, 5, 3, 4, 4, 4, 4, 5, 3, 4, 4,\n",
       "       3, 4, 4, 3, 4, 4, 5, 4, 3, 4, 3, 4, 4, 4, 3, 2, 2, 3, 2, 4, 4, 3,\n",
       "       3, 3, 4], dtype=int64)"
      ]
     },
     "execution_count": 8,
     "metadata": {},
     "output_type": "execute_result"
    }
   ],
   "source": [
    "classifier.predict(x_test)"
   ]
  },
  {
   "cell_type": "markdown",
   "id": "15a943a4",
   "metadata": {},
   "source": [
    "# A3.2"
   ]
  },
  {
   "cell_type": "code",
   "execution_count": 9,
   "id": "ef5a8934",
   "metadata": {},
   "outputs": [
    {
     "data": {
      "text/plain": [
       "array([[ 0,  2,  0,  0,  0,  0],\n",
       "       [ 1, 10,  9,  0,  0,  0],\n",
       "       [ 0,  6, 81, 28,  0,  0],\n",
       "       [ 0,  0, 30, 85,  4,  0],\n",
       "       [ 0,  0,  1,  8,  1,  0],\n",
       "       [ 0,  0,  0,  1,  0,  0]], dtype=int64)"
      ]
     },
     "execution_count": 9,
     "metadata": {},
     "output_type": "execute_result"
    }
   ],
   "source": [
    "from sklearn.metrics import confusion_matrix\n",
    "cm = confusion_matrix(y_test, svm.predict(x_test))\n",
    "cm"
   ]
  },
  {
   "cell_type": "code",
   "execution_count": 10,
   "id": "1124f9b1",
   "metadata": {},
   "outputs": [
    {
     "data": {
      "text/plain": [
       "array([[ 0,  2,  0,  0,  0,  0],\n",
       "       [ 0,  7, 11,  2,  0,  0],\n",
       "       [ 2,  7, 66, 39,  1,  0],\n",
       "       [ 1,  3, 32, 77,  6,  0],\n",
       "       [ 0,  0,  2,  7,  1,  0],\n",
       "       [ 0,  0,  1,  0,  0,  0]], dtype=int64)"
      ]
     },
     "execution_count": 10,
     "metadata": {},
     "output_type": "execute_result"
    }
   ],
   "source": [
    "cm2 = confusion_matrix(y_test, classifier.predict(x_test))\n",
    "cm2"
   ]
  },
  {
   "cell_type": "markdown",
   "id": "755a2e64",
   "metadata": {},
   "source": [
    "# A3.3"
   ]
  },
  {
   "cell_type": "code",
   "execution_count": 11,
   "id": "107d11fa",
   "metadata": {},
   "outputs": [
    {
     "data": {
      "text/plain": [
       "0.6629213483146067"
      ]
     },
     "execution_count": 11,
     "metadata": {},
     "output_type": "execute_result"
    }
   ],
   "source": [
    "from sklearn.metrics import accuracy_score\n",
    "accuracy1 = accuracy_score(y_test, svm.predict(x_test))\n",
    "accuracy2 = accuracy_score(y_test, classifier.predict(x_test))\n",
    "accuracy1 "
   ]
  },
  {
   "cell_type": "code",
   "execution_count": 12,
   "id": "09bdf226",
   "metadata": {},
   "outputs": [
    {
     "data": {
      "text/plain": [
       "0.5655430711610487"
      ]
     },
     "execution_count": 12,
     "metadata": {},
     "output_type": "execute_result"
    }
   ],
   "source": [
    "accuracy2 "
   ]
  },
  {
   "cell_type": "markdown",
   "id": "d19cb57d",
   "metadata": {},
   "source": [
    "accuracy1 is more accurate than accuracy2 therefore the SVM is more accurate"
   ]
  },
  {
   "cell_type": "markdown",
   "id": "59a984d2",
   "metadata": {},
   "source": [
    "# A4.1 "
   ]
  },
  {
   "cell_type": "code",
   "execution_count": 13,
   "id": "d19c06e9",
   "metadata": {},
   "outputs": [
    {
     "data": {
      "text/plain": [
       "array([4, 3, 3, 4, 4, 4, 3, 3, 3, 2, 3, 4, 4, 3, 4, 3, 4, 4, 3, 3, 3, 3,\n",
       "       4, 4, 4, 4, 4, 4, 4, 3, 2, 4, 3, 3, 4, 3, 4, 4, 3, 3, 3, 4, 3, 3,\n",
       "       2, 3, 3, 4, 4, 3, 2, 4, 4, 4, 3, 4, 3, 4, 4, 4, 3, 3, 3, 4, 3, 4,\n",
       "       4, 4, 3, 4, 4, 4, 5, 3, 3, 3, 3, 4, 4, 4, 4, 3, 4, 3, 4, 1, 4, 4,\n",
       "       1, 3, 3, 3, 3, 3, 4, 3, 4, 4, 3, 3, 4, 5, 1, 4, 3, 4, 3, 3, 5, 4,\n",
       "       4, 3, 4, 4, 4, 3, 2, 4, 2, 3, 4, 4, 4, 3, 3, 4, 3, 5, 3, 3, 4, 4,\n",
       "       2, 3, 4, 3, 3, 4, 2, 4, 4, 4, 4, 3, 3, 4, 4, 3, 4, 4, 4, 3, 4, 3,\n",
       "       5, 3, 3, 4, 4, 4, 4, 3, 2, 2, 4, 5, 3, 3, 2, 4, 3, 4, 3, 3, 4, 3,\n",
       "       4, 3, 3, 4, 4, 3, 4, 4, 4, 4, 3, 3, 3, 3, 3, 5, 4, 5, 3, 5, 4, 3,\n",
       "       4], dtype=int64)"
      ]
     },
     "execution_count": 13,
     "metadata": {},
     "output_type": "execute_result"
    }
   ],
   "source": [
    "features_submission_data = pd.read_csv('FIT1043-Essay-Features-Submission.csv')\n",
    "score = svm.predict(features_submission_data)\n",
    "score"
   ]
  },
  {
   "cell_type": "markdown",
   "id": "26ea0120",
   "metadata": {},
   "source": [
    "# A4.2"
   ]
  },
  {
   "cell_type": "code",
   "execution_count": 14,
   "id": "210ad613",
   "metadata": {},
   "outputs": [],
   "source": [
    "essayid = features_submission_data['essayid'].values"
   ]
  },
  {
   "cell_type": "code",
   "execution_count": 15,
   "id": "0fd6ffb6",
   "metadata": {},
   "outputs": [],
   "source": [
    "d1 = {\n",
    "    \"essayid\": essayid, \n",
    "    \"score\" : score\n",
    "     }\n",
    "df = pd.DataFrame(d1)\n",
    "new_csv = \"new_csv\"\n",
    "df.to_csv(new_csv, index=False)"
   ]
  },
  {
   "cell_type": "markdown",
   "id": "90d68d66",
   "metadata": {},
   "source": [
    "# PART B"
   ]
  },
  {
   "cell_type": "markdown",
   "id": "a8d944d3",
   "metadata": {},
   "source": [
    "The datasets used in Part B were taken from https://www.kaggle.com/datasets/ilayaraja07/data-cleaning-feature-imputation/?select=Students_Performance_mv.csv."
   ]
  },
  {
   "cell_type": "code",
   "execution_count": 16,
   "id": "dd4efe6b",
   "metadata": {},
   "outputs": [
    {
     "data": {
      "text/plain": [
       "gender                          0\n",
       "race/ethnicity                 11\n",
       "parental level of education    21\n",
       "lunch                          12\n",
       "test preparation course         4\n",
       "math score                      0\n",
       "reading score                   0\n",
       "writing score                   0\n",
       "dtype: int64"
      ]
     },
     "execution_count": 16,
     "metadata": {},
     "output_type": "execute_result"
    }
   ],
   "source": [
    "partb_dataset = pd.read_csv(\"Students_Performance_mv.csv\")\n",
    "missing_data = partb_dataset.isnull().sum()\n",
    "missing_data"
   ]
  },
  {
   "cell_type": "code",
   "execution_count": 17,
   "id": "d0508dc3",
   "metadata": {},
   "outputs": [
    {
     "data": {
      "text/plain": [
       "gender                         0\n",
       "race/ethnicity                 0\n",
       "parental level of education    0\n",
       "lunch                          0\n",
       "test preparation course        0\n",
       "math score                     0\n",
       "reading score                  0\n",
       "writing score                  0\n",
       "dtype: int64"
      ]
     },
     "execution_count": 17,
     "metadata": {},
     "output_type": "execute_result"
    }
   ],
   "source": [
    "partb_dataset.dropna(inplace=True)\n",
    "missing_data = partb_dataset.isnull().sum()\n",
    "missing_data"
   ]
  },
  {
   "cell_type": "code",
   "execution_count": 18,
   "id": "3ffff016",
   "metadata": {},
   "outputs": [
    {
     "name": "stderr",
     "output_type": "stream",
     "text": [
      "C:\\Users\\tanje\\anaconda3\\Lib\\site-packages\\sklearn\\cluster\\_kmeans.py:1412: FutureWarning: The default value of `n_init` will change from 10 to 'auto' in 1.4. Set the value of `n_init` explicitly to suppress the warning\n",
      "  super()._check_params_vs_input(X, default_n_init=10)\n",
      "C:\\Users\\tanje\\anaconda3\\Lib\\site-packages\\sklearn\\cluster\\_kmeans.py:1436: UserWarning: KMeans is known to have a memory leak on Windows with MKL, when there are less chunks than available threads. You can avoid it by setting the environment variable OMP_NUM_THREADS=4.\n",
      "  warnings.warn(\n"
     ]
    },
    {
     "data": {
      "text/plain": [
       "<function matplotlib.pyplot.show(close=None, block=None)>"
      ]
     },
     "execution_count": 18,
     "metadata": {},
     "output_type": "execute_result"
    },
    {
     "data": {
      "image/png": "[encoded data removed]",
      "text/plain": [
       "<Figure size 640x480 with 1 Axes>"
      ]
     },
     "metadata": {},
     "output_type": "display_data"
    }
   ],
   "source": [
    "import matplotlib.pyplot as plt\n",
    "from sklearn.cluster import KMeans\n",
    "kmeans = KMeans(n_clusters=4).fit(partb_dataset[['reading score','writing score']])\n",
    "plt.scatter(x=partb_dataset['reading score'], \n",
    "            y=partb_dataset['writing score'], \n",
    "            c=kmeans.labels_)\n",
    "plt.plot(kmeans.cluster_centers_[:,0], \n",
    "         kmeans.cluster_centers_[:,1],\n",
    "         'k*',\n",
    "         markersize=15)\n",
    "plt.xlabel('reading score')\n",
    "plt.ylabel('writing score')\n",
    "plt.show"
   ]
  },
  {
   "cell_type": "markdown",
   "id": "de816eb7",
   "metadata": {},
   "source": [
    "the above diagram is dataset used with its result of the k-means clustering. There were a total of 4 subgroups of it while the blue colored part of the data range from 10 to 60 for the reading score and 5 to 58 for writing score. For the yellow part of the data, the reading score range from 50 to 75, and 48 to 73 for writing score. Following, the purple part of the data reading score range from 60 to 87 and 60 to 82 for the writing score. Lastly the green part of the data reading score range from 80 to 100, while the writing score range from 75 to 100. All of these data values are an estimation based on the graph."
   ]
  }
 ],
 "metadata": {
  "kernelspec": {
   "display_name": "Python 3 (ipykernel)",
   "language": "python",
   "name": "python3"
  },
  "language_info": {
   "codemirror_mode": {
    "name": "ipython",
    "version": 3
   },
   "file_extension": ".py",
   "mimetype": "text/x-python",
   "name": "python",
   "nbconvert_exporter": "python",
   "pygments_lexer": "ipython3",
   "version": "3.11.4"
  }
 },
 "nbformat": 4,
 "nbformat_minor": 5
}
